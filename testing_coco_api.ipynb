{
 "cells": [
  {
   "cell_type": "markdown",
   "id": "0859fb8b-0b6c-4143-bb79-e9dad2f6a40f",
   "metadata": {},
   "source": [
    "### Downloading specific images\n",
    "como el dataset de coco pesa muchisimo (20gb) vamos a probar \n",
    "descargar directamente las imagenes utilizando la api de pycoco para obtener los ids\n",
    "y despues pegandole directamente a la url y haciendo download\n",
    "\n",
    "De este modo descargamos solo las imagenes asociadas con las categorias especificas, que son una fraccion del dataset. "
   ]
  },
  {
   "cell_type": "code",
   "execution_count": 5,
   "id": "d0b8b03a-9343-4941-99e2-bd9f00c64d33",
   "metadata": {},
   "outputs": [],
   "source": [
    "from pycocotools.coco import COCO\n",
    "import os\n",
    "import json\n",
    "import requests\n",
    "from tqdm import tqdm"
   ]
  },
  {
   "cell_type": "code",
   "execution_count": 6,
   "id": "767763b3-6d49-4252-bb3b-2e1e7e6ff97d",
   "metadata": {},
   "outputs": [
    {
     "name": "stdout",
     "output_type": "stream",
     "text": [
      "loading annotations into memory...\n",
      "Done (t=16.60s)\n",
      "creating index...\n",
      "index created!\n"
     ]
    }
   ],
   "source": [
    "coco = COCO('annotations/instances_train2017.json')"
   ]
  },
  {
   "cell_type": "code",
   "execution_count": 8,
   "id": "0883c21a-4462-4922-abc5-798253cbf845",
   "metadata": {},
   "outputs": [],
   "source": [
    "# start with toaster since there are just a bunch of them\n",
    "categories = [\"toaster\"]"
   ]
  },
  {
   "cell_type": "code",
   "execution_count": 9,
   "id": "0b38b8cd-2092-45aa-b8e7-3581a9b2776c",
   "metadata": {},
   "outputs": [],
   "source": [
    "subset_images_dir = 'subset_images/'\n",
    "os.makedirs(subset_images_dir, exist_ok=True)"
   ]
  },
  {
   "cell_type": "code",
   "execution_count": 12,
   "id": "ba8c9d4b-f491-4187-8660-48297df349d9",
   "metadata": {},
   "outputs": [
    {
     "name": "stdout",
     "output_type": "stream",
     "text": [
      "Category IDs: [80]\n"
     ]
    }
   ],
   "source": [
    "# Get category IDs for the specified categories\n",
    "cat_ids = coco.getCatIds(catNms=categories)\n",
    "print(f\"Category IDs: {cat_ids}\")"
   ]
  },
  {
   "cell_type": "code",
   "execution_count": 13,
   "id": "374fe500-da2f-4244-8003-3c34ccdb3b7d",
   "metadata": {},
   "outputs": [],
   "source": [
    "img_ids = coco.getImgIds(catIds=cat_ids)"
   ]
  },
  {
   "cell_type": "code",
   "execution_count": 15,
   "id": "cb676fdd-596d-423c-a2f7-fac4dc702e6e",
   "metadata": {},
   "outputs": [
    {
     "data": {
      "text/plain": [
       "217"
      ]
     },
     "execution_count": 15,
     "metadata": {},
     "output_type": "execute_result"
    }
   ],
   "source": [
    "len(img_ids)"
   ]
  },
  {
   "cell_type": "code",
   "execution_count": 16,
   "id": "44b2ac53-dc3b-45b3-bac8-57939e089e17",
   "metadata": {},
   "outputs": [],
   "source": [
    "subset_annotations = {\n",
    "    'images': [],\n",
    "    'annotations': [],\n",
    "    'categories': coco.loadCats(cat_ids)\n",
    "}"
   ]
  },
  {
   "cell_type": "code",
   "execution_count": 17,
   "id": "c92fe538-c5e7-4e6d-a518-07be65c91779",
   "metadata": {},
   "outputs": [],
   "source": [
    "coco_image_base_url = \"http://images.cocodataset.org/train2017/\""
   ]
  },
  {
   "cell_type": "code",
   "execution_count": 18,
   "id": "47b98e97-33c4-48d6-97c2-074ebcfd42a0",
   "metadata": {},
   "outputs": [
    {
     "name": "stderr",
     "output_type": "stream",
     "text": [
      "Processing Images: 100%|███████████████████████████████████████████████████████████████████████| 217/217 [04:18<00:00,  1.19s/it]"
     ]
    },
    {
     "name": "stdout",
     "output_type": "stream",
     "text": [
      "Subset creation complete.\n"
     ]
    },
    {
     "name": "stderr",
     "output_type": "stream",
     "text": [
      "\n"
     ]
    }
   ],
   "source": [
    "for img_id in tqdm(img_ids, desc=\"Processing Images\"):\n",
    "    img_info = coco.loadImgs(img_id)[0]\n",
    "    subset_annotations['images'].append(img_info)\n",
    "    \n",
    "    # build image URL and download it\n",
    "    img_filename = img_info['file_name']\n",
    "    img_url = coco_image_base_url + img_filename\n",
    "    subset_img_path = os.path.join(subset_images_dir, img_filename)\n",
    "    \n",
    "    # download image if not already present\n",
    "    if not os.path.isfile(subset_img_path):\n",
    "        response = requests.get(img_url, stream=True)\n",
    "        with open(subset_img_path, 'wb') as f:\n",
    "            f.write(response.content)\n",
    "    \n",
    "    # get annotations for this image\n",
    "    ann_ids = coco.getAnnIds(imgIds=img_id, catIds=cat_ids)\n",
    "    subset_annotations['annotations'].extend(coco.loadAnns(ann_ids))\n",
    "\n",
    "with open('subset_annotations.json', 'w') as f:\n",
    "    json.dump(subset_annotations, f)\n",
    "\n",
    "print(\"Subset creation complete.\")\n"
   ]
  },
  {
   "cell_type": "code",
   "execution_count": null,
   "id": "08819d84-cd1e-43eb-9347-8e457ff4b836",
   "metadata": {},
   "outputs": [],
   "source": []
  }
 ],
 "metadata": {
  "kernelspec": {
   "display_name": "cv",
   "language": "python",
   "name": "cv"
  },
  "language_info": {
   "codemirror_mode": {
    "name": "ipython",
    "version": 3
   },
   "file_extension": ".py",
   "mimetype": "text/x-python",
   "name": "python",
   "nbconvert_exporter": "python",
   "pygments_lexer": "ipython3",
   "version": "3.11.8"
  }
 },
 "nbformat": 4,
 "nbformat_minor": 5
}
