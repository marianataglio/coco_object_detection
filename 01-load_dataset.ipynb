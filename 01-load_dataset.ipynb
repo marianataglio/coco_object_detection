{
 "cells": [
  {
   "cell_type": "markdown",
   "id": "cac5c485-516c-465b-a2a9-e32504e36326",
   "metadata": {},
   "source": [
    "### Download dataset and annotations\n",
    "1) annotations: http://images.cocodataset.org/annotations/annotations_trainval2017.zip\n",
    "2) sample dataset (240mb) https://datasetninja.com/coco-2017#download\n"
   ]
  },
  {
   "cell_type": "code",
   "execution_count": 2,
   "id": "0ed00ae8-3303-4135-a590-09e084f925f7",
   "metadata": {},
   "outputs": [],
   "source": [
    "from pycocotools.coco import COCO\n",
    "import os"
   ]
  },
  {
   "cell_type": "code",
   "execution_count": 4,
   "id": "54aa6c81-6c8d-4d2b-ab55-823ed75e6fd7",
   "metadata": {},
   "outputs": [
    {
     "name": "stdout",
     "output_type": "stream",
     "text": [
      "loading annotations into memory...\n",
      "Done (t=19.69s)\n",
      "creating index...\n",
      "index created!\n"
     ]
    }
   ],
   "source": [
    "coco = COCO('annotations/instances_train2017.json')"
   ]
  },
  {
   "cell_type": "markdown",
   "id": "5d06bf21-e866-4fd6-8557-e7497d8a37b4",
   "metadata": {},
   "source": [
    "#### Electrodomésticos\n",
    "\n",
    "* Tv, 4768\n",
    "* Laptop, 3707\n",
    "* Mouse, 1964\n",
    "* Keyboard, 2221\n",
    "* Remote, 3221\n",
    "* Cellphone, 5017\n",
    "* Microwave, 1601\n",
    "* Toaster, 225\n",
    "* Refrigerator, 2461\n",
    "* Oven, 2992"
   ]
  },
  {
   "cell_type": "markdown",
   "id": "ace2f28f-77c7-44c7-b1e6-a4dbbd65eead",
   "metadata": {},
   "source": [
    "### Filter images for the selected categories"
   ]
  },
  {
   "cell_type": "code",
   "execution_count": 92,
   "id": "0f25ad68-014c-4196-8400-fff63bb83c30",
   "metadata": {},
   "outputs": [
    {
     "name": "stdout",
     "output_type": "stream",
     "text": [
      "Found 11354 images that contain at least one of the selected categories.\n"
     ]
    }
   ],
   "source": [
    "categories = [\"laptop\", \"keyboard\", \"mouse\", \"keyboard\", \"cell phone\", \"tv\"]\n",
    "\n",
    "# this is necessary because the method getImgIds performs AND instead of OR\n",
    "img_ids = []\n",
    "for cat in categories:\n",
    "    img_ids += coco.getImgIds(catIds=coco.getCatIds(catNms=[cat]))\n",
    "\n",
    "# remove duplicates\n",
    "img_ids = list(set(img_ids))\n",
    "\n",
    "print(f\"Found {len(img_ids)} images that contain at least one of the selected categories.\")"
   ]
  },
  {
   "cell_type": "code",
   "execution_count": 108,
   "id": "d9028649-19ae-4d8c-ab4e-c4896f82c0e1",
   "metadata": {},
   "outputs": [],
   "source": [
    "import os\n",
    "import shutil\n",
    "\n",
    "if not os.path.exists('filtered_images'):\n",
    "    os.makedirs('filtered_images/images')"
   ]
  },
  {
   "cell_type": "code",
   "execution_count": 109,
   "id": "f0506532-7843-4932-9e55-e9e3a26fe6cc",
   "metadata": {},
   "outputs": [],
   "source": [
    "annotations_dir = 'filtered_images/annotations'\n",
    "os.makedirs(annotations_dir, exist_ok=True)"
   ]
  },
  {
   "cell_type": "code",
   "execution_count": 110,
   "id": "6c328be5-a3b2-4545-96aa-3aaffdbf094a",
   "metadata": {},
   "outputs": [],
   "source": [
    "# create new dict to hold the filtered annotations\n",
    "\n",
    "filtered_annotations = {\n",
    "    'info': coco.dataset['info'],\n",
    "    'licenses': coco.dataset['licenses'],\n",
    "    'images': [],\n",
    "    'annotations': [],\n",
    "    'categories': [cat for cat in coco.dataset['categories'] if cat['id'] in cat_ids]\n",
    "}"
   ]
  },
  {
   "cell_type": "code",
   "execution_count": null,
   "id": "4bc65452-953d-4006-8c55-30eb60abc930",
   "metadata": {},
   "outputs": [],
   "source": [
    "# filter images and their corresponding annotations\n",
    "for img_id in img_ids:\n",
    "    img_info = coco.loadImgs(img_id)[0]\n",
    "    img_path = os.path.join('train2017/img', img_info['file_name'])\n",
    "\n",
    "    if os.path.exists(img_path):\n",
    "        shutil.copy(img_path, 'filtered_images/images')\n",
    "        filtered_annotations['images'].append(img_info)\n",
    "        \n",
    "        ann_ids = coco.getAnnIds(imgIds=img_id, catIds=cat_ids)\n",
    "        anns = coco.loadAnns(ann_ids)\n",
    "        for ann in anns:\n",
    "            filtered_annotations['annotations'].append(ann)\n",
    "        \n",
    "        filtered_count += 1\n",
    "    else:\n",
    "        print(f\"Image file {img_path} not found.\")\n",
    "\n",
    "annotation_file_path = os.path.join('filtered_images/annotations', 'instances_filtered.json')\n",
    "with open(annotation_file_path, 'w') as f:\n",
    "    json.dump(filtered_annotations, f)"
   ]
  }
 ],
 "metadata": {
  "kernelspec": {
   "display_name": "cv",
   "language": "python",
   "name": "cv"
  },
  "language_info": {
   "codemirror_mode": {
    "name": "ipython",
    "version": 3
   },
   "file_extension": ".py",
   "mimetype": "text/x-python",
   "name": "python",
   "nbconvert_exporter": "python",
   "pygments_lexer": "ipython3",
   "version": "3.11.8"
  }
 },
 "nbformat": 4,
 "nbformat_minor": 5
}
