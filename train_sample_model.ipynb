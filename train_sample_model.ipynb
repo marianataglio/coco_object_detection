{
 "cells": [
  {
   "cell_type": "markdown",
   "id": "0d54a7e7-b18b-41c3-97f3-0097ea0a457d",
   "metadata": {},
   "source": [
    "## Train model for object detection\n",
    "\n",
    "1) usar los datos de las filtered images para entrenar una red que haga deteccion de objetos.\n",
    "2) Para esto es necesario que tenga imagenes de test para validar!! asi que tengo que correr el filtering sobre las imagenes de test tambien y guardarlas, puede ser en la misma carpeta que filtered images y despues de ahi hago train, test split/\n",
    "3) bueno que es lo que tengo que usar para entrenar en realidad?\n",
    "   las imagenes y las anotaciones, al menos height, width, bbox, class\n",
    "4) experimentos:\n",
    "   *  probar con yolo o alguna de una psada\n",
    "   *  hacer transfer learning\n",
    "  \n",
    "16 sept: voy a probar con las imagenes de tostadora en subset_images.\n",
    "\n",
    "1) instalo yolo https://github.com/WongKinYiu/yolov7"
   ]
  },
  {
   "cell_type": "code",
   "execution_count": 1,
   "id": "db51291f-6373-4bfd-a7a7-8091b1d9378c",
   "metadata": {},
   "outputs": [],
   "source": [
    "import torch"
   ]
  },
  {
   "cell_type": "markdown",
   "id": "20b57c7f-0f8a-41f3-b8a2-87e4164873c1",
   "metadata": {
    "jp-MarkdownHeadingCollapsed": true
   },
   "source": [
    "### organizar imagenes para yolo\n",
    "\n",
    "https://www.kaggle.com/code/abubakarabdulkadir/yolo-data-preprocessing\n",
    "\n",
    "Las anotaciones tienen que estar en archivos .txt con este formato:\n",
    "\n",
    "\"\\<class_id>\\<x_center>\\<y_center>\\<width>\\<height>\"\n"
   ]
  },
  {
   "cell_type": "code",
   "execution_count": 7,
   "id": "eae4e794-0f92-4a9e-8ce4-985818cdd19e",
   "metadata": {},
   "outputs": [],
   "source": [
    "## TODO: mover a utils\n",
    "\n",
    "import json\n",
    "import os\n",
    "\n",
    "def convert_to_yolo_format(coco_annotation_file, output_dir):\n",
    "    with open(coco_annotation_file) as f:\n",
    "        data = json.load(f)\n",
    "\n",
    "    for ann in data['annotations']:\n",
    "        image_id = ann['image_id']\n",
    "        img = [img for img in data['images'] if img['id'] == image_id][0]\n",
    "        img_width = img['width']\n",
    "        img_height = img['height']\n",
    "\n",
    "        category_id = ann['category_id'] - 1  # Adjust class_id if needed\n",
    "        bbox = ann['bbox']\n",
    "        x_center = (bbox[0] + bbox[2] / 2) / img_width\n",
    "        y_center = (bbox[1] + bbox[3] / 2) / img_height\n",
    "        width = bbox[2] / img_width\n",
    "        height = bbox[3] / img_height\n",
    "\n",
    "        label_file = os.path.join(output_dir, f\"{image_id}.txt\")\n",
    "        with open(label_file, 'a') as lf:\n",
    "            lf.write(f\"{category_id} {x_center} {y_center} {width} {height}\\n\")"
   ]
  },
  {
   "cell_type": "code",
   "execution_count": null,
   "id": "ee7b38ba-7d49-4669-93e9-60dd4e40883c",
   "metadata": {},
   "outputs": [],
   "source": []
  },
  {
   "cell_type": "code",
   "execution_count": 8,
   "id": "104dcb18-05d4-4b12-b0e9-46352e09f1f1",
   "metadata": {},
   "outputs": [],
   "source": [
    "coco_annotation_file = \"./subset_annotations.json\""
   ]
  },
  {
   "cell_type": "code",
   "execution_count": 9,
   "id": "93fb1639-65f1-402b-a002-fce875248650",
   "metadata": {},
   "outputs": [],
   "source": [
    "output_dir = \"./subset_images/\""
   ]
  },
  {
   "cell_type": "code",
   "execution_count": 10,
   "id": "1ac3d1f8-255c-4c32-861d-aa3d2c484986",
   "metadata": {},
   "outputs": [],
   "source": [
    "convert_to_yolo_format(coco_annotation_file, output_dir)"
   ]
  },
  {
   "cell_type": "code",
   "execution_count": null,
   "id": "73ccafa8-8541-4676-b398-24317df73d8b",
   "metadata": {},
   "outputs": [],
   "source": []
  },
  {
   "cell_type": "code",
   "execution_count": 12,
   "id": "c45cfce7-986a-4d47-b3c5-fed35bb77244",
   "metadata": {},
   "outputs": [],
   "source": [
    "label_dir = 'labels/'\n",
    "os.makedirs(label_dir, exist_ok=True)"
   ]
  },
  {
   "cell_type": "code",
   "execution_count": 13,
   "id": "306b8b2b-1136-42dd-80fe-18e9d1a1db53",
   "metadata": {},
   "outputs": [],
   "source": [
    "convert_to_yolo_format(coco_annotation_file, label_dir)"
   ]
  },
  {
   "cell_type": "markdown",
   "id": "7fbba4b3-f889-4166-aed9-776a12b10632",
   "metadata": {
    "jp-MarkdownHeadingCollapsed": true
   },
   "source": [
    "### Nombre de las imagenes\n",
    "el id de la anotacion no tiene los 00s que tienen las imagenes.\n",
    "Armar funcioncita para eliminar los ceros de adelante. "
   ]
  },
  {
   "cell_type": "code",
   "execution_count": 22,
   "id": "3b017d72-ee25-46b1-b917-9ecdae3fd595",
   "metadata": {},
   "outputs": [],
   "source": [
    "## TODO: mover a utils o transformations\n",
    "import os \n",
    "def clean_image_name(directory):\n",
    "    for filename in os.listdir(directory):\n",
    "        if filename.endswith(\".jpg\"):\n",
    "            file_without_ext = filename.split(\".jpg\")[0]\n",
    "            # remove zeros from filename\n",
    "            cleaned_name = str(int(file_without_ext)) + \".jpg\"\n",
    "            old_file = os.path.join(directory, filename)\n",
    "            new_file = os.path.join(directory, cleaned_name)\n",
    "            # rename files\n",
    "            os.rename(old_file, new_file)"
   ]
  },
  {
   "cell_type": "code",
   "execution_count": 23,
   "id": "da38ee14-64f2-4454-b626-38bcb72eab41",
   "metadata": {},
   "outputs": [],
   "source": [
    "clean_image_name(image_dir)"
   ]
  },
  {
   "cell_type": "markdown",
   "id": "09731b90-d308-401f-941e-b561a2d0fde7",
   "metadata": {},
   "source": [
    "### Splitting train/test"
   ]
  },
  {
   "cell_type": "code",
   "execution_count": 25,
   "id": "6e29c26b-0b05-4cfa-bf57-b0f1f2823abb",
   "metadata": {},
   "outputs": [],
   "source": [
    "import os\n",
    "import shutil\n",
    "from sklearn.model_selection import train_test_split\n",
    "\n",
    "image_dir = \"./subset_images\"\n",
    "label_dir = \"./labels\"\n",
    "train_image_dir = \"./subset_images/train\"\n",
    "val_image_dir = \"./subset_images/val\"\n",
    "train_label_dir = \"./subset_images/train\"\n",
    "val_label_dir = \"./subset_images/val\"\n",
    "\n",
    "os.makedirs(train_image_dir, exist_ok=True)\n",
    "os.makedirs(val_image_dir, exist_ok=True)\n",
    "os.makedirs(train_label_dir, exist_ok=True)\n",
    "os.makedirs(val_label_dir, exist_ok=True)\n",
    "\n",
    "images = [f for f in os.listdir(image_dir) if f.endswith('.jpg')]\n",
    "labels = [f.replace('.jpg', '.txt') for f in images]\n",
    "\n",
    "# prevent codes from failing if image/label pair doesnt exist\n",
    "valid_labels = [lbl for lbl in labels if os.path.exists(os.path.join(label_dir, lbl))]\n",
    "valid_images = [img for img in images if img.replace('.jpg', '.txt') in valid_labels]\n",
    "\n",
    "# train val split\n",
    "train_images, val_images, train_labels, val_labels = train_test_split(valid_images, valid_labels, test_size=0.2)\n",
    "\n",
    "# just move files to train and val dirs\n",
    "for img, lbl in zip(train_images, train_labels):\n",
    "    shutil.move(os.path.join(image_dir, img), train_image_dir)\n",
    "    shutil.move(os.path.join(label_dir, lbl), train_label_dir)\n",
    "\n",
    "for img, lbl in zip(val_images, val_labels):\n",
    "    shutil.move(os.path.join(image_dir, img), val_image_dir)\n",
    "    shutil.move(os.path.join(label_dir, lbl), val_label_dir)\n"
   ]
  },
  {
   "cell_type": "code",
   "execution_count": null,
   "id": "71d9f616-2a13-484b-80e7-5914b018f81f",
   "metadata": {},
   "outputs": [],
   "source": []
  }
 ],
 "metadata": {
  "kernelspec": {
   "display_name": "cv",
   "language": "python",
   "name": "cv"
  },
  "language_info": {
   "codemirror_mode": {
    "name": "ipython",
    "version": 3
   },
   "file_extension": ".py",
   "mimetype": "text/x-python",
   "name": "python",
   "nbconvert_exporter": "python",
   "pygments_lexer": "ipython3",
   "version": "3.11.8"
  }
 },
 "nbformat": 4,
 "nbformat_minor": 5
}
